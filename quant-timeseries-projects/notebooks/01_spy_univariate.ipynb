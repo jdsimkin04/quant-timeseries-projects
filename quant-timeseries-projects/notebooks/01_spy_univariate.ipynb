{
 "cells": [
  {
   "cell_type": "code",
   "id": "initial_id",
   "metadata": {
    "collapsed": true,
    "ExecuteTime": {
     "end_time": "2025-08-10T04:56:49.764129Z",
     "start_time": "2025-08-10T04:56:49.760506Z"
    }
   },
   "source": [
    "import sys, os\n",
    "sys.path.append(os.path.abspath(\"../src\"))\n",
    "\n",
    "from data.load_data import get_spy_data\n",
    "from data.features import add_targets, make_sequences"
   ],
   "outputs": [],
   "execution_count": 22
  },
  {
   "metadata": {},
   "cell_type": "markdown",
   "source": "Step 1: load data",
   "id": "b9fb7b9dd7c86d15"
  },
  {
   "metadata": {
    "ExecuteTime": {
     "end_time": "2025-08-10T04:55:04.102632Z",
     "start_time": "2025-08-10T04:55:04.054676Z"
    }
   },
   "cell_type": "code",
   "source": [
    "df = get_spy_data(start=\"2010-01-01\", end=\"2025-08-09\")\n",
    "df.head()\n"
   ],
   "id": "96eb0142e5d912ab",
   "outputs": [
    {
     "name": "stderr",
     "output_type": "stream",
     "text": [
      "/Users/jonathansimkin/PycharmProjects/finance_ml/quant-timeseries-projects/src/data/load_data.py:5: FutureWarning: YF.download() has changed argument auto_adjust default to True\n",
      "  df = yf.download(\"SPY\", start=start, end=end)\n",
      "[*********************100%***********************]  1 of 1 completed\n"
     ]
    },
    {
     "data": {
      "text/plain": [
       "Price            Open       High        Low      Close     Volume\n",
       "Ticker            SPY        SPY        SPY        SPY        SPY\n",
       "Date                                                             \n",
       "2010-01-04  84.791282  85.560943  84.142350  85.515671  118944600\n",
       "2010-01-05  85.462801  85.779720  85.153424  85.741989  111579900\n",
       "2010-01-06  85.659005  86.013655  85.591097  85.802376  116074400\n",
       "2010-01-07  85.643917  86.270213  85.402454  86.164574  131091100\n",
       "2010-01-08  85.938200  86.489040  85.764652  86.451309  126402800"
      ],
      "text/html": [
       "<div>\n",
       "<style scoped>\n",
       "    .dataframe tbody tr th:only-of-type {\n",
       "        vertical-align: middle;\n",
       "    }\n",
       "\n",
       "    .dataframe tbody tr th {\n",
       "        vertical-align: top;\n",
       "    }\n",
       "\n",
       "    .dataframe thead tr th {\n",
       "        text-align: left;\n",
       "    }\n",
       "\n",
       "    .dataframe thead tr:last-of-type th {\n",
       "        text-align: right;\n",
       "    }\n",
       "</style>\n",
       "<table border=\"1\" class=\"dataframe\">\n",
       "  <thead>\n",
       "    <tr>\n",
       "      <th>Price</th>\n",
       "      <th>Open</th>\n",
       "      <th>High</th>\n",
       "      <th>Low</th>\n",
       "      <th>Close</th>\n",
       "      <th>Volume</th>\n",
       "    </tr>\n",
       "    <tr>\n",
       "      <th>Ticker</th>\n",
       "      <th>SPY</th>\n",
       "      <th>SPY</th>\n",
       "      <th>SPY</th>\n",
       "      <th>SPY</th>\n",
       "      <th>SPY</th>\n",
       "    </tr>\n",
       "    <tr>\n",
       "      <th>Date</th>\n",
       "      <th></th>\n",
       "      <th></th>\n",
       "      <th></th>\n",
       "      <th></th>\n",
       "      <th></th>\n",
       "    </tr>\n",
       "  </thead>\n",
       "  <tbody>\n",
       "    <tr>\n",
       "      <th>2010-01-04</th>\n",
       "      <td>84.791282</td>\n",
       "      <td>85.560943</td>\n",
       "      <td>84.142350</td>\n",
       "      <td>85.515671</td>\n",
       "      <td>118944600</td>\n",
       "    </tr>\n",
       "    <tr>\n",
       "      <th>2010-01-05</th>\n",
       "      <td>85.462801</td>\n",
       "      <td>85.779720</td>\n",
       "      <td>85.153424</td>\n",
       "      <td>85.741989</td>\n",
       "      <td>111579900</td>\n",
       "    </tr>\n",
       "    <tr>\n",
       "      <th>2010-01-06</th>\n",
       "      <td>85.659005</td>\n",
       "      <td>86.013655</td>\n",
       "      <td>85.591097</td>\n",
       "      <td>85.802376</td>\n",
       "      <td>116074400</td>\n",
       "    </tr>\n",
       "    <tr>\n",
       "      <th>2010-01-07</th>\n",
       "      <td>85.643917</td>\n",
       "      <td>86.270213</td>\n",
       "      <td>85.402454</td>\n",
       "      <td>86.164574</td>\n",
       "      <td>131091100</td>\n",
       "    </tr>\n",
       "    <tr>\n",
       "      <th>2010-01-08</th>\n",
       "      <td>85.938200</td>\n",
       "      <td>86.489040</td>\n",
       "      <td>85.764652</td>\n",
       "      <td>86.451309</td>\n",
       "      <td>126402800</td>\n",
       "    </tr>\n",
       "  </tbody>\n",
       "</table>\n",
       "</div>"
      ]
     },
     "execution_count": 14,
     "metadata": {},
     "output_type": "execute_result"
    }
   ],
   "execution_count": 14
  },
  {
   "metadata": {},
   "cell_type": "markdown",
   "source": "step 2: add features",
   "id": "70b0fad4ebc5bc85"
  },
  {
   "metadata": {
    "ExecuteTime": {
     "end_time": "2025-08-10T04:55:06.220375Z",
     "start_time": "2025-08-10T04:55:06.209360Z"
    }
   },
   "cell_type": "code",
   "source": [
    "df = add_targets(df)\n",
    "df.head()\n"
   ],
   "id": "d09d9a6a6e8028bf",
   "outputs": [
    {
     "data": {
      "text/plain": [
       "Price            Open       High        Low      Close     Volume log_return  \\\n",
       "Ticker            SPY        SPY        SPY        SPY        SPY              \n",
       "Date                                                                           \n",
       "2010-01-04  84.791282  85.560943  84.142350  85.515671  118944600        NaN   \n",
       "2010-01-05  85.462801  85.779720  85.153424  85.741989  111579900   0.002643   \n",
       "2010-01-06  85.659005  86.013655  85.591097  85.802376  116074400   0.000704   \n",
       "2010-01-07  85.643917  86.270213  85.402454  86.164574  131091100   0.004212   \n",
       "2010-01-08  85.938200  86.489040  85.764652  86.451309  126402800   0.003322   \n",
       "\n",
       "Price       vol_park  \n",
       "Ticker                \n",
       "Date                  \n",
       "2010-01-04  0.006960  \n",
       "2010-01-05  0.003050  \n",
       "2010-01-06  0.002050  \n",
       "2010-01-07  0.004208  \n",
       "2010-01-08  0.003501  "
      ],
      "text/html": [
       "<div>\n",
       "<style scoped>\n",
       "    .dataframe tbody tr th:only-of-type {\n",
       "        vertical-align: middle;\n",
       "    }\n",
       "\n",
       "    .dataframe tbody tr th {\n",
       "        vertical-align: top;\n",
       "    }\n",
       "\n",
       "    .dataframe thead tr th {\n",
       "        text-align: left;\n",
       "    }\n",
       "\n",
       "    .dataframe thead tr:last-of-type th {\n",
       "        text-align: right;\n",
       "    }\n",
       "</style>\n",
       "<table border=\"1\" class=\"dataframe\">\n",
       "  <thead>\n",
       "    <tr>\n",
       "      <th>Price</th>\n",
       "      <th>Open</th>\n",
       "      <th>High</th>\n",
       "      <th>Low</th>\n",
       "      <th>Close</th>\n",
       "      <th>Volume</th>\n",
       "      <th>log_return</th>\n",
       "      <th>vol_park</th>\n",
       "    </tr>\n",
       "    <tr>\n",
       "      <th>Ticker</th>\n",
       "      <th>SPY</th>\n",
       "      <th>SPY</th>\n",
       "      <th>SPY</th>\n",
       "      <th>SPY</th>\n",
       "      <th>SPY</th>\n",
       "      <th></th>\n",
       "      <th></th>\n",
       "    </tr>\n",
       "    <tr>\n",
       "      <th>Date</th>\n",
       "      <th></th>\n",
       "      <th></th>\n",
       "      <th></th>\n",
       "      <th></th>\n",
       "      <th></th>\n",
       "      <th></th>\n",
       "      <th></th>\n",
       "    </tr>\n",
       "  </thead>\n",
       "  <tbody>\n",
       "    <tr>\n",
       "      <th>2010-01-04</th>\n",
       "      <td>84.791282</td>\n",
       "      <td>85.560943</td>\n",
       "      <td>84.142350</td>\n",
       "      <td>85.515671</td>\n",
       "      <td>118944600</td>\n",
       "      <td>NaN</td>\n",
       "      <td>0.006960</td>\n",
       "    </tr>\n",
       "    <tr>\n",
       "      <th>2010-01-05</th>\n",
       "      <td>85.462801</td>\n",
       "      <td>85.779720</td>\n",
       "      <td>85.153424</td>\n",
       "      <td>85.741989</td>\n",
       "      <td>111579900</td>\n",
       "      <td>0.002643</td>\n",
       "      <td>0.003050</td>\n",
       "    </tr>\n",
       "    <tr>\n",
       "      <th>2010-01-06</th>\n",
       "      <td>85.659005</td>\n",
       "      <td>86.013655</td>\n",
       "      <td>85.591097</td>\n",
       "      <td>85.802376</td>\n",
       "      <td>116074400</td>\n",
       "      <td>0.000704</td>\n",
       "      <td>0.002050</td>\n",
       "    </tr>\n",
       "    <tr>\n",
       "      <th>2010-01-07</th>\n",
       "      <td>85.643917</td>\n",
       "      <td>86.270213</td>\n",
       "      <td>85.402454</td>\n",
       "      <td>86.164574</td>\n",
       "      <td>131091100</td>\n",
       "      <td>0.004212</td>\n",
       "      <td>0.004208</td>\n",
       "    </tr>\n",
       "    <tr>\n",
       "      <th>2010-01-08</th>\n",
       "      <td>85.938200</td>\n",
       "      <td>86.489040</td>\n",
       "      <td>85.764652</td>\n",
       "      <td>86.451309</td>\n",
       "      <td>126402800</td>\n",
       "      <td>0.003322</td>\n",
       "      <td>0.003501</td>\n",
       "    </tr>\n",
       "  </tbody>\n",
       "</table>\n",
       "</div>"
      ]
     },
     "execution_count": 15,
     "metadata": {},
     "output_type": "execute_result"
    }
   ],
   "execution_count": 15
  },
  {
   "metadata": {
    "ExecuteTime": {
     "end_time": "2025-08-10T04:54:47.531428Z",
     "start_time": "2025-08-10T04:54:47.525246Z"
    }
   },
   "cell_type": "code",
   "source": [
    "df['log_return'].mean(), df['log_return'].std()\n",
    "df['vol_park'].mean(), df['vol_park'].std()\n"
   ],
   "id": "e040e30c5c627585",
   "outputs": [
    {
     "data": {
      "text/plain": [
       "(np.float64(0.0047184426798323525), np.float64(0.0035347309580311273))"
      ]
     },
     "execution_count": 10,
     "metadata": {},
     "output_type": "execute_result"
    }
   ],
   "execution_count": 10
  },
  {
   "metadata": {},
   "cell_type": "markdown",
   "source": "Step 3: make sequences",
   "id": "30606fdfe992131f"
  },
  {
   "metadata": {
    "ExecuteTime": {
     "end_time": "2025-08-10T04:57:06.889243Z",
     "start_time": "2025-08-10T04:57:06.874546Z"
    }
   },
   "cell_type": "code",
   "source": [
    "X, y, idx = make_sequences(df,\n",
    "                           feature_cols=['log_return', 'vol_park'],\n",
    "                           target_col='log_return', lookback=60, horizon=1, return_index=True)\n",
    "#print(f\"X shape: {X.shape}, y shape: {y.shape}, idx first 3: {idx[:3]}\")\n"
   ],
   "id": "833253cc31f7b1b5",
   "outputs": [
    {
     "ename": "TypeError",
     "evalue": "make_sequences() got an unexpected keyword argument 'return_index'",
     "output_type": "error",
     "traceback": [
      "\u001B[31m---------------------------------------------------------------------------\u001B[39m",
      "\u001B[31mTypeError\u001B[39m                                 Traceback (most recent call last)",
      "\u001B[36mCell\u001B[39m\u001B[36m \u001B[39m\u001B[32mIn[28]\u001B[39m\u001B[32m, line 1\u001B[39m\n\u001B[32m----> \u001B[39m\u001B[32m1\u001B[39m X, y, idx = \u001B[43mmake_sequences\u001B[49m\u001B[43m(\u001B[49m\u001B[43mdf\u001B[49m\u001B[43m,\u001B[49m\n\u001B[32m      2\u001B[39m \u001B[43m                           \u001B[49m\u001B[43mfeature_cols\u001B[49m\u001B[43m=\u001B[49m\u001B[43m[\u001B[49m\u001B[33;43m'\u001B[39;49m\u001B[33;43mlog_return\u001B[39;49m\u001B[33;43m'\u001B[39;49m\u001B[43m,\u001B[49m\u001B[43m \u001B[49m\u001B[33;43m'\u001B[39;49m\u001B[33;43mvol_park\u001B[39;49m\u001B[33;43m'\u001B[39;49m\u001B[43m]\u001B[49m\u001B[43m,\u001B[49m\n\u001B[32m      3\u001B[39m \u001B[43m                           \u001B[49m\u001B[43mtarget_col\u001B[49m\u001B[43m=\u001B[49m\u001B[33;43m'\u001B[39;49m\u001B[33;43mlog_return\u001B[39;49m\u001B[33;43m'\u001B[39;49m\u001B[43m,\u001B[49m\u001B[43m \u001B[49m\u001B[43mlookback\u001B[49m\u001B[43m=\u001B[49m\u001B[32;43m60\u001B[39;49m\u001B[43m,\u001B[49m\u001B[43m \u001B[49m\u001B[43mhorizon\u001B[49m\u001B[43m=\u001B[49m\u001B[32;43m1\u001B[39;49m\u001B[43m,\u001B[49m\u001B[43m \u001B[49m\u001B[43mreturn_index\u001B[49m\u001B[43m=\u001B[49m\u001B[38;5;28;43;01mTrue\u001B[39;49;00m\u001B[43m)\u001B[49m\n\u001B[32m      4\u001B[39m \u001B[38;5;66;03m#print(f\"X shape: {X.shape}, y shape: {y.shape}, idx first 3: {idx[:3]}\")\u001B[39;00m\n",
      "\u001B[31mTypeError\u001B[39m: make_sequences() got an unexpected keyword argument 'return_index'"
     ]
    }
   ],
   "execution_count": 28
  },
  {
   "metadata": {},
   "cell_type": "code",
   "outputs": [],
   "execution_count": null,
   "source": "",
   "id": "54d8a9a255f3798e"
  }
 ],
 "metadata": {
  "kernelspec": {
   "display_name": "Python 3",
   "language": "python",
   "name": "python3"
  },
  "language_info": {
   "codemirror_mode": {
    "name": "ipython",
    "version": 2
   },
   "file_extension": ".py",
   "mimetype": "text/x-python",
   "name": "python",
   "nbconvert_exporter": "python",
   "pygments_lexer": "ipython2",
   "version": "2.7.6"
  }
 },
 "nbformat": 4,
 "nbformat_minor": 5
}
